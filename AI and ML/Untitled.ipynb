{
 "cells": [
  {
   "cell_type": "code",
   "execution_count": 1,
   "id": "e5a73ae8-7b9c-4fda-b2ee-d2e0f47d1787",
   "metadata": {},
   "outputs": [],
   "source": [
    "import numpy as np\n",
    "import pandas as pd\n",
    "import matplotlib.pyplot as plt\n"
   ]
  },
  {
   "cell_type": "code",
   "execution_count": 3,
   "id": "6ebd8d6f-dffd-45e0-8980-50f45b463c62",
   "metadata": {},
   "outputs": [
    {
     "name": "stdout",
     "output_type": "stream",
     "text": [
      "AND gate output: [0, 0, 0, 1]\n",
      "OR gate output: [0, 1, 1, 1]\n",
      "XOR gate output: [0, 1, 1, 0]\n"
     ]
    }
   ],
   "source": [
    "# Task 1: Implement MCP Neurons for AND, OR, and XOR\n",
    "\n",
    "def MCP_Neurons_AND(X1, X2, T):\n",
    "    state_neuron = [(1 if (x1 + x2) >= T else 0) for x1, x2 in zip(X1, X2)]\n",
    "    return state_neuron\n",
    "\n",
    "def MCP_Neurons_OR(X1, X2, T):\n",
    "    state_neuron = [(1 if (x1 + x2) >= T else 0) for x1, x2 in zip(X1, X2)]\n",
    "    return state_neuron\n",
    "\n",
    "def MCP_Neurons_XOR(X1, X2):\n",
    "    and_gate = MCP_Neurons_AND(X1, X2, 2)\n",
    "    or_gate = MCP_Neurons_OR(X1, X2, 1)\n",
    "    nand_gate = [1 - a for a in and_gate]  # NOT AND\n",
    "    xor_gate = [o & n for o, n in zip(or_gate, nand_gate)]\n",
    "    return xor_gate\n",
    "\n",
    "X1 = [0, 0, 1, 1]\n",
    "X2 = [0, 1, 0, 1]\n",
    "\n",
    "T_and = 2  # Threshold for AND\n",
    "T_or = 1   # Threshold for OR\n",
    "\n",
    "print(\"AND gate output:\", MCP_Neurons_AND(X1, X2, T_and))\n",
    "print(\"OR gate output:\", MCP_Neurons_OR(X1, X2, T_or))\n",
    "print(\"XOR gate output:\", MCP_Neurons_XOR(X1, X2))"
   ]
  },
  {
   "cell_type": "code",
   "execution_count": 28,
   "id": "46038dd2-742a-4606-87f5-142a4d95b6f3",
   "metadata": {},
   "outputs": [],
   "source": [
    "# Task 2: Implement Perceptron Algorithm for 0 vs 1 Classification\n",
    "\n",
    "def train_perceptron(X, y, learning_rate=0.1, epochs=100):\n",
    "    weights = np.zeros(X.shape[1])\n",
    "    bias = 0\n",
    "    for epoch in range(epochs):\n",
    "        for i in range(X.shape[0]):\n",
    "            output = np.dot(X[i], weights) + bias\n",
    "            prediction = 1 if output >= 0 else 0\n",
    "            if prediction != y[i]:\n",
    "                update = learning_rate * (y[i] - prediction)\n",
    "                weights += update * X[i]\n",
    "                bias += update\n",
    "    return weights, bias"
   ]
  },
  {
   "cell_type": "code",
   "execution_count": null,
   "id": "01abe19a-c4a6-4aa2-b782-602939dbf0e4",
   "metadata": {},
   "outputs": [],
   "source": []
  },
  {
   "cell_type": "code",
   "execution_count": 19,
   "id": "1b7b0d91-cb88-4caa-bde6-1d719a0105e2",
   "metadata": {},
   "outputs": [],
   "source": [
    "# Load MNIST dataset (0 vs 1)\n",
    "df_0_1 = pd.read_csv(r\"C:\\Users\\ryder\\Downloads\\mnist_0_and_1.csv\")\n",
    "X = df_0_1.drop(columns=[\"label\"]).values\n",
    "y = df_0_1[\"label\"].values"
   ]
  },
  {
   "cell_type": "code",
   "execution_count": 21,
   "id": "fafffa09-ba46-46d8-b774-7a420153e7a0",
   "metadata": {},
   "outputs": [
    {
     "name": "stdout",
     "output_type": "stream",
     "text": [
      "Final Accuracy: 1.0000\n"
     ]
    }
   ],
   "source": [
    "# Train perceptron model\n",
    "weights, bias = train_perceptron(X, y)\n",
    "\n",
    "def predict(X, weights, bias):\n",
    "    return np.where(np.dot(X, weights) + bias >= 0, 1, 0)\n",
    "\n",
    "y_pred = predict(X, weights, bias)\n",
    "accuracy = np.mean(y_pred == y)\n",
    "print(f\"Final Accuracy: {accuracy:.4f}\")"
   ]
  },
  {
   "cell_type": "code",
   "execution_count": 23,
   "id": "64917194-1354-4b01-a39f-808f3c7ead97",
   "metadata": {},
   "outputs": [
    {
     "name": "stdout",
     "output_type": "stream",
     "text": [
      "All images were correctly classified!\n"
     ]
    }
   ],
   "source": [
    "# Visualizing misclassified images\n",
    "misclassified_idx = np.where(y_pred != y)[0]\n",
    "if len(misclassified_idx) > 0:\n",
    "    fig, axes = plt.subplots(2, 5, figsize=(10, 5))\n",
    "    for ax, idx in zip(axes.flat, misclassified_idx[:10]):\n",
    "        ax.imshow(X[idx].reshape(28, 28), cmap=\"gray\")\n",
    "        ax.set_title(f\"Pred: {y_pred[idx]}, True: {y[idx]}\")\n",
    "        ax.axis(\"off\")\n",
    "    plt.show()\n",
    "else:\n",
    "    print(\"All images were correctly classified!\")"
   ]
  },
  {
   "cell_type": "code",
   "execution_count": null,
   "id": "04b546f8-7410-4828-8955-d688be3d5c1f",
   "metadata": {},
   "outputs": [],
   "source": []
  },
  {
   "cell_type": "code",
   "execution_count": null,
   "id": "ca927b75-1910-44cd-af91-5b47db4c0dec",
   "metadata": {},
   "outputs": [],
   "source": []
  }
 ],
 "metadata": {
  "kernelspec": {
   "display_name": "Python [conda env:base] *",
   "language": "python",
   "name": "conda-base-py"
  },
  "language_info": {
   "codemirror_mode": {
    "name": "ipython",
    "version": 3
   },
   "file_extension": ".py",
   "mimetype": "text/x-python",
   "name": "python",
   "nbconvert_exporter": "python",
   "pygments_lexer": "ipython3",
   "version": "3.12.7"
  }
 },
 "nbformat": 4,
 "nbformat_minor": 5
}
